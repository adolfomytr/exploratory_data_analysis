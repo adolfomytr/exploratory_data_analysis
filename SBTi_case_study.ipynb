{
 "cells": [
  {
   "cell_type": "markdown",
   "metadata": {},
   "source": [
    "### Import libraries"
   ]
  },
  {
   "cell_type": "code",
   "execution_count": 95,
   "metadata": {},
   "outputs": [],
   "source": [
    "from datetime import date\n",
    "import pandas as pd\n",
    "import numpy as np\n",
    "import matplotlib.pyplot as plt"
   ]
  },
  {
   "cell_type": "markdown",
   "metadata": {},
   "source": [
    "### Import dataframe"
   ]
  },
  {
   "cell_type": "code",
   "execution_count": 96,
   "metadata": {},
   "outputs": [
    {
     "data": {
      "text/html": [
       "<div>\n",
       "<style scoped>\n",
       "    .dataframe tbody tr th:only-of-type {\n",
       "        vertical-align: middle;\n",
       "    }\n",
       "\n",
       "    .dataframe tbody tr th {\n",
       "        vertical-align: top;\n",
       "    }\n",
       "\n",
       "    .dataframe thead th {\n",
       "        text-align: right;\n",
       "    }\n",
       "</style>\n",
       "<table border=\"1\" class=\"dataframe\">\n",
       "  <thead>\n",
       "    <tr style=\"text-align: right;\">\n",
       "      <th></th>\n",
       "      <th>Company Name</th>\n",
       "      <th>ISIN</th>\n",
       "      <th>LEI</th>\n",
       "      <th>Near term - Target Status</th>\n",
       "      <th>Near term - Target Classification</th>\n",
       "      <th>Near term - Target Year</th>\n",
       "      <th>Long term - Target Status</th>\n",
       "      <th>Long term - Target Classification</th>\n",
       "      <th>Long term - Target Year</th>\n",
       "      <th>Net-Zero Committed</th>\n",
       "      <th>...</th>\n",
       "      <th>Organization Type</th>\n",
       "      <th>BA1.5</th>\n",
       "      <th>BA1.5 Date</th>\n",
       "      <th>Location</th>\n",
       "      <th>Region</th>\n",
       "      <th>Sector</th>\n",
       "      <th>Date</th>\n",
       "      <th>Target</th>\n",
       "      <th>Target Classification</th>\n",
       "      <th>Extension</th>\n",
       "    </tr>\n",
       "  </thead>\n",
       "  <tbody>\n",
       "    <tr>\n",
       "      <th>0</th>\n",
       "      <td>(ACIP) Alexandria Company for Industrial Packages</td>\n",
       "      <td>NaN</td>\n",
       "      <td>NaN</td>\n",
       "      <td>Targets Set</td>\n",
       "      <td>Well-below 2¡C</td>\n",
       "      <td>2030</td>\n",
       "      <td>NaN</td>\n",
       "      <td>NaN</td>\n",
       "      <td>NaN</td>\n",
       "      <td>No</td>\n",
       "      <td>...</td>\n",
       "      <td>Small or Medium Enterprise</td>\n",
       "      <td>No</td>\n",
       "      <td>NaN</td>\n",
       "      <td>Egypt</td>\n",
       "      <td>Africa</td>\n",
       "      <td>Containers and Packaging</td>\n",
       "      <td>01/02/2022</td>\n",
       "      <td>This target was approved using a streamlined t...</td>\n",
       "      <td>The targets covering greenhouse gas emissions ...</td>\n",
       "      <td>NaN</td>\n",
       "    </tr>\n",
       "    <tr>\n",
       "      <th>1</th>\n",
       "      <td>2degrees</td>\n",
       "      <td>NaN</td>\n",
       "      <td>72450039D2LOPG0Z2I07</td>\n",
       "      <td>Committed</td>\n",
       "      <td>NaN</td>\n",
       "      <td>NaN</td>\n",
       "      <td>NaN</td>\n",
       "      <td>NaN</td>\n",
       "      <td>NaN</td>\n",
       "      <td>No</td>\n",
       "      <td>...</td>\n",
       "      <td>Company</td>\n",
       "      <td>No</td>\n",
       "      <td>NaN</td>\n",
       "      <td>New Zealand</td>\n",
       "      <td>Oceania</td>\n",
       "      <td>Telecommunication Services</td>\n",
       "      <td>01/09/2021</td>\n",
       "      <td>NaN</td>\n",
       "      <td>NaN</td>\n",
       "      <td>NaN</td>\n",
       "    </tr>\n",
       "    <tr>\n",
       "      <th>2</th>\n",
       "      <td>3B-Fibreglass</td>\n",
       "      <td>NaN</td>\n",
       "      <td>529900UNERQOV61CA912</td>\n",
       "      <td>Committed</td>\n",
       "      <td>NaN</td>\n",
       "      <td>NaN</td>\n",
       "      <td>NaN</td>\n",
       "      <td>NaN</td>\n",
       "      <td>NaN</td>\n",
       "      <td>Yes</td>\n",
       "      <td>...</td>\n",
       "      <td>Company</td>\n",
       "      <td>Yes</td>\n",
       "      <td>01/09/2021</td>\n",
       "      <td>Belgium</td>\n",
       "      <td>Europe</td>\n",
       "      <td>Consumer Durables, Household and Personal Prod...</td>\n",
       "      <td>01/10/2021</td>\n",
       "      <td>NaN</td>\n",
       "      <td>NaN</td>\n",
       "      <td>NaN</td>\n",
       "    </tr>\n",
       "    <tr>\n",
       "      <th>3</th>\n",
       "      <td>4most</td>\n",
       "      <td>NaN</td>\n",
       "      <td>NaN</td>\n",
       "      <td>Targets Set</td>\n",
       "      <td>Well-below 2¡C</td>\n",
       "      <td>2030</td>\n",
       "      <td>NaN</td>\n",
       "      <td>NaN</td>\n",
       "      <td>NaN</td>\n",
       "      <td>No</td>\n",
       "      <td>...</td>\n",
       "      <td>Small or Medium Enterprise</td>\n",
       "      <td>No</td>\n",
       "      <td>NaN</td>\n",
       "      <td>United Kingdom (UK)</td>\n",
       "      <td>Europe</td>\n",
       "      <td>Professional Services</td>\n",
       "      <td>01/09/2022</td>\n",
       "      <td>This target was approved using a streamlined t...</td>\n",
       "      <td>The targets covering greenhouse gas emissions ...</td>\n",
       "      <td>NaN</td>\n",
       "    </tr>\n",
       "    <tr>\n",
       "      <th>4</th>\n",
       "      <td>A&amp;L Goodbody</td>\n",
       "      <td>NaN</td>\n",
       "      <td>NaN</td>\n",
       "      <td>Committed</td>\n",
       "      <td>NaN</td>\n",
       "      <td>NaN</td>\n",
       "      <td>NaN</td>\n",
       "      <td>NaN</td>\n",
       "      <td>NaN</td>\n",
       "      <td>No</td>\n",
       "      <td>...</td>\n",
       "      <td>Company</td>\n",
       "      <td>No</td>\n",
       "      <td>NaN</td>\n",
       "      <td>Ireland</td>\n",
       "      <td>Europe</td>\n",
       "      <td>Professional Services</td>\n",
       "      <td>01/10/2021</td>\n",
       "      <td>NaN</td>\n",
       "      <td>NaN</td>\n",
       "      <td>NaN</td>\n",
       "    </tr>\n",
       "  </tbody>\n",
       "</table>\n",
       "<p>5 rows × 21 columns</p>\n",
       "</div>"
      ],
      "text/plain": [
       "                                        Company Name ISIN  \\\n",
       "0  (ACIP) Alexandria Company for Industrial Packages  NaN   \n",
       "1                                           2degrees  NaN   \n",
       "2                                      3B-Fibreglass  NaN   \n",
       "3                                              4most  NaN   \n",
       "4                                       A&L Goodbody  NaN   \n",
       "\n",
       "                    LEI Near term - Target Status  \\\n",
       "0                   NaN               Targets Set   \n",
       "1  72450039D2LOPG0Z2I07                 Committed   \n",
       "2  529900UNERQOV61CA912                 Committed   \n",
       "3                   NaN               Targets Set   \n",
       "4                   NaN                 Committed   \n",
       "\n",
       "  Near term - Target Classification Near term - Target Year  \\\n",
       "0                    Well-below 2¡C                    2030   \n",
       "1                               NaN                     NaN   \n",
       "2                               NaN                     NaN   \n",
       "3                    Well-below 2¡C                    2030   \n",
       "4                               NaN                     NaN   \n",
       "\n",
       "  Long term - Target Status Long term - Target Classification  \\\n",
       "0                       NaN                               NaN   \n",
       "1                       NaN                               NaN   \n",
       "2                       NaN                               NaN   \n",
       "3                       NaN                               NaN   \n",
       "4                       NaN                               NaN   \n",
       "\n",
       "  Long term - Target Year Net-Zero Committed  ...           Organization Type  \\\n",
       "0                     NaN                 No  ...  Small or Medium Enterprise   \n",
       "1                     NaN                 No  ...                     Company   \n",
       "2                     NaN                Yes  ...                     Company   \n",
       "3                     NaN                 No  ...  Small or Medium Enterprise   \n",
       "4                     NaN                 No  ...                     Company   \n",
       "\n",
       "  BA1.5  BA1.5 Date             Location   Region  \\\n",
       "0    No         NaN                Egypt   Africa   \n",
       "1    No         NaN          New Zealand  Oceania   \n",
       "2   Yes  01/09/2021              Belgium   Europe   \n",
       "3    No         NaN  United Kingdom (UK)   Europe   \n",
       "4    No         NaN              Ireland   Europe   \n",
       "\n",
       "                                              Sector        Date  \\\n",
       "0                           Containers and Packaging  01/02/2022   \n",
       "1                         Telecommunication Services  01/09/2021   \n",
       "2  Consumer Durables, Household and Personal Prod...  01/10/2021   \n",
       "3                              Professional Services  01/09/2022   \n",
       "4                              Professional Services  01/10/2021   \n",
       "\n",
       "                                              Target  \\\n",
       "0  This target was approved using a streamlined t...   \n",
       "1                                                NaN   \n",
       "2                                                NaN   \n",
       "3  This target was approved using a streamlined t...   \n",
       "4                                                NaN   \n",
       "\n",
       "                               Target Classification Extension  \n",
       "0  The targets covering greenhouse gas emissions ...       NaN  \n",
       "1                                                NaN       NaN  \n",
       "2                                                NaN       NaN  \n",
       "3  The targets covering greenhouse gas emissions ...       NaN  \n",
       "4                                                NaN       NaN  \n",
       "\n",
       "[5 rows x 21 columns]"
      ]
     },
     "execution_count": 96,
     "metadata": {},
     "output_type": "execute_result"
    }
   ],
   "source": [
    "current_data_structure = pd.read_csv('/Users/adolfomytr/Documents/Data Science/SBTi/SBTi_Companies_Taking_Action.csv', encoding='latin1')\n",
    "current_data_structure.head()"
   ]
  },
  {
   "cell_type": "markdown",
   "metadata": {},
   "source": [
    "### Check out datatypes in case we need to change one, for calculation or structure purposes"
   ]
  },
  {
   "cell_type": "code",
   "execution_count": 97,
   "metadata": {},
   "outputs": [
    {
     "name": "stdout",
     "output_type": "stream",
     "text": [
      "Company Name                                 object\n",
      "ISIN                                         object\n",
      "LEI                                          object\n",
      "Near term - Target Status                    object\n",
      "Near term - Target Classification            object\n",
      "Near term - Target Year                      object\n",
      "Long term - Target Status                    object\n",
      "Long term - Target Classification            object\n",
      "Long term - Target Year                      object\n",
      "Net-Zero Committed                           object\n",
      "Net-Zero Year                                object\n",
      "Organization Type                            object\n",
      "BA1.5                                        object\n",
      "BA1.5 Date                           datetime64[ns]\n",
      "Location                                     object\n",
      "Region                                       object\n",
      "Sector                                       object\n",
      "Date                                 datetime64[ns]\n",
      "Target                                       object\n",
      "Target Classification                        object\n",
      "Extension                                    object\n",
      "dtype: object\n"
     ]
    }
   ],
   "source": [
    "current_data_structure.dtypes  #All of them are objects (or strings), but there are dates that we should change into date format\n",
    "current_data_structure['Date'] = pd.to_datetime(current_data_structure['Date'], dayfirst=True)\n",
    "current_data_structure['BA1.5 Date']= pd.to_datetime(current_data_structure['BA1.5 Date'], dayfirst=True)\n",
    "print(current_data_structure.dtypes)"
   ]
  },
  {
   "cell_type": "markdown",
   "metadata": {},
   "source": [
    "### From the current data structure, check out which colums have missing values that will go to the new data structure"
   ]
  },
  {
   "cell_type": "code",
   "execution_count": 98,
   "metadata": {},
   "outputs": [],
   "source": [
    "new_data_missing_values = current_data_structure[current_data_structure['ISIN'].isnull() |\n",
    "                                                current_data_structure['LEI'].isnull() |\n",
    "                                                current_data_structure['Location'].isnull() |\n",
    "                                                current_data_structure['Region'].isnull() |\n",
    "                                                current_data_structure['Sector'].isnull() | \n",
    "                                                current_data_structure['Organization Type'].isnull() |\n",
    "                                                current_data_structure['Target'].isnull() |\n",
    "                                                current_data_structure['Near term - Target Classification'].isnull() |\n",
    "                                                current_data_structure['Near term - Target Year'].isnull() |\n",
    "                                                current_data_structure['Date'].isnull()]\n"
   ]
  },
  {
   "cell_type": "markdown",
   "metadata": {},
   "source": [
    "### Dataframe with all missing values "
   ]
  },
  {
   "cell_type": "code",
   "execution_count": 99,
   "metadata": {},
   "outputs": [
    {
     "name": "stdout",
     "output_type": "stream",
     "text": [
      "                                           Company Name          ISIN  \\\n",
      "0     (ACIP) Alexandria Company for Industrial Packages           NaN   \n",
      "1                                              2degrees           NaN   \n",
      "2                                         3B-Fibreglass           NaN   \n",
      "3                                                 4most           NaN   \n",
      "4                                          A&L Goodbody           NaN   \n",
      "...                                                 ...           ...   \n",
      "3937                                      ZS Associates           NaN   \n",
      "3938                          ZTO Express (Cayman) Inc.  US98980A1051   \n",
      "3939                                     Zuellig Pharma           NaN   \n",
      "3940                                       Zhlke Group           NaN   \n",
      "3941                         Zurich Insurance Group Ltd  CH0011075394   \n",
      "\n",
      "                       LEI                        Location         Region  \\\n",
      "0                      NaN                           Egypt         Africa   \n",
      "1     72450039D2LOPG0Z2I07                     New Zealand        Oceania   \n",
      "2     529900UNERQOV61CA912                         Belgium         Europe   \n",
      "3                      NaN             United Kingdom (UK)         Europe   \n",
      "4                      NaN                         Ireland         Europe   \n",
      "...                    ...                             ...            ...   \n",
      "3937                   NaN  United States of America (USA)  North America   \n",
      "3938  549300SCJPK3YZJTJR78                           China           Asia   \n",
      "3939                   NaN                       Singapore           Asia   \n",
      "3940                   NaN                     Switzerland         Europe   \n",
      "3941  529900QVNRBND50TXP03                     Switzerland         Europe   \n",
      "\n",
      "                                                 Sector  \\\n",
      "0                              Containers and Packaging   \n",
      "1                            Telecommunication Services   \n",
      "2     Consumer Durables, Household and Personal Prod...   \n",
      "3                                 Professional Services   \n",
      "4                                 Professional Services   \n",
      "...                                                 ...   \n",
      "3937                              Professional Services   \n",
      "3938           Air Freight Transportation and Logistics   \n",
      "3939  Healthcare Providers and Services, and Healthc...   \n",
      "3940                              Software and Services   \n",
      "3941               Banks, Diverse Financials, Insurance   \n",
      "\n",
      "               Organization Type  \\\n",
      "0     Small or Medium Enterprise   \n",
      "1                        Company   \n",
      "2                        Company   \n",
      "3     Small or Medium Enterprise   \n",
      "4                        Company   \n",
      "...                          ...   \n",
      "3937                     Company   \n",
      "3938                     Company   \n",
      "3939                     Company   \n",
      "3940                     Company   \n",
      "3941       Financial Institution   \n",
      "\n",
      "                                                 Target  \\\n",
      "0     This target was approved using a streamlined t...   \n",
      "1                                                   NaN   \n",
      "2                                                   NaN   \n",
      "3     This target was approved using a streamlined t...   \n",
      "4                                                   NaN   \n",
      "...                                                 ...   \n",
      "3937                                                NaN   \n",
      "3938                                                NaN   \n",
      "3939                                                NaN   \n",
      "3940                                                NaN   \n",
      "3941                                                NaN   \n",
      "\n",
      "     Near term - Target Classification Near term - Target Year       Date  \n",
      "0                       Well-below 2¡C                    2030 2022-02-01  \n",
      "1                                  NaN                     NaN 2021-09-01  \n",
      "2                                  NaN                     NaN 2021-10-01  \n",
      "3                       Well-below 2¡C                    2030 2022-09-01  \n",
      "4                                  NaN                     NaN 2021-10-01  \n",
      "...                                ...                     ...        ...  \n",
      "3937                               NaN                     NaN 2022-06-01  \n",
      "3938                               NaN                     NaN 2021-01-01  \n",
      "3939                               NaN                     NaN 2021-01-01  \n",
      "3940                               NaN                     NaN 2022-03-01  \n",
      "3941                               NaN                     NaN 2019-07-01  \n",
      "\n",
      "[3154 rows x 11 columns]\n"
     ]
    }
   ],
   "source": [
    "new_data_missing_values = new_data_missing_values[['Company Name', \n",
    "                                                    'ISIN', \n",
    "                                                    'LEI', \n",
    "                                                    'Location', \n",
    "                                                    'Region', \n",
    "                                                    'Sector', \n",
    "                                                    'Organization Type', \n",
    "                                                    'Target', \n",
    "                                                    'Near term - Target Classification', \n",
    "                                                    'Near term - Target Year', \n",
    "                                                    'Date']]\n",
    "print(new_data_missing_values)"
   ]
  },
  {
   "cell_type": "markdown",
   "metadata": {},
   "source": [
    "### Summary dataframe with number of missing values per category"
   ]
  },
  {
   "cell_type": "code",
   "execution_count": 100,
   "metadata": {},
   "outputs": [
    {
     "name": "stdout",
     "output_type": "stream",
     "text": [
      "                                   missing_values\n",
      "ISIN                                         2082\n",
      "LEI                                          1638\n",
      "Region                                          3\n",
      "Target                                       2058\n",
      "Near term - Target Classification            2056\n",
      "Near term - Target Year                      2116\n",
      "Date                                           22\n"
     ]
    }
   ],
   "source": [
    "new_data_missing_values_summary = pd.DataFrame(new_data_missing_values.count())\n",
    "new_data_missing_values_summary['missing_values'] = new_data_missing_values['Company Name'].count() - new_data_missing_values_summary[0]\n",
    "new_data_missing_values_summary = new_data_missing_values_summary['missing_values']\n",
    "new_data_missing_values_summary = pd.DataFrame(new_data_missing_values_summary)\n",
    "new_data_missing_values_summary = new_data_missing_values_summary[new_data_missing_values_summary['missing_values'] > 0]\n",
    "print(new_data_missing_values_summary)"
   ]
  },
  {
   "cell_type": "markdown",
   "metadata": {},
   "source": [
    "### Check if there are any whole duplicated rows"
   ]
  },
  {
   "cell_type": "code",
   "execution_count": 101,
   "metadata": {},
   "outputs": [
    {
     "data": {
      "text/html": [
       "<div>\n",
       "<style scoped>\n",
       "    .dataframe tbody tr th:only-of-type {\n",
       "        vertical-align: middle;\n",
       "    }\n",
       "\n",
       "    .dataframe tbody tr th {\n",
       "        vertical-align: top;\n",
       "    }\n",
       "\n",
       "    .dataframe thead th {\n",
       "        text-align: right;\n",
       "    }\n",
       "</style>\n",
       "<table border=\"1\" class=\"dataframe\">\n",
       "  <thead>\n",
       "    <tr style=\"text-align: right;\">\n",
       "      <th></th>\n",
       "      <th>Company Name</th>\n",
       "      <th>ISIN</th>\n",
       "      <th>LEI</th>\n",
       "      <th>Near term - Target Status</th>\n",
       "      <th>Near term - Target Classification</th>\n",
       "      <th>Near term - Target Year</th>\n",
       "      <th>Long term - Target Status</th>\n",
       "      <th>Long term - Target Classification</th>\n",
       "      <th>Long term - Target Year</th>\n",
       "      <th>Net-Zero Committed</th>\n",
       "      <th>...</th>\n",
       "      <th>Organization Type</th>\n",
       "      <th>BA1.5</th>\n",
       "      <th>BA1.5 Date</th>\n",
       "      <th>Location</th>\n",
       "      <th>Region</th>\n",
       "      <th>Sector</th>\n",
       "      <th>Date</th>\n",
       "      <th>Target</th>\n",
       "      <th>Target Classification</th>\n",
       "      <th>Extension</th>\n",
       "    </tr>\n",
       "  </thead>\n",
       "  <tbody>\n",
       "  </tbody>\n",
       "</table>\n",
       "<p>0 rows × 21 columns</p>\n",
       "</div>"
      ],
      "text/plain": [
       "Empty DataFrame\n",
       "Columns: [Company Name, ISIN, LEI, Near term - Target Status, Near term - Target Classification, Near term - Target Year, Long term - Target Status, Long term - Target Classification, Long term - Target Year, Net-Zero Committed, Net-Zero Year, Organization Type, BA1.5, BA1.5 Date, Location, Region, Sector, Date, Target, Target Classification, Extension]\n",
       "Index: []\n",
       "\n",
       "[0 rows x 21 columns]"
      ]
     },
     "execution_count": 101,
     "metadata": {},
     "output_type": "execute_result"
    }
   ],
   "source": [
    "current_data_structure[current_data_structure.duplicated() == True]"
   ]
  },
  {
   "cell_type": "markdown",
   "metadata": {},
   "source": [
    "### Check if there are any duplicated company names"
   ]
  },
  {
   "cell_type": "code",
   "execution_count": 102,
   "metadata": {},
   "outputs": [
    {
     "name": "stdout",
     "output_type": "stream",
     "text": [
      "606                           CANPACK Group\n",
      "1644         Hongkong Land Holdings Limited\n",
      "2239              MEANINGS CAPITAL PARTNERS\n",
      "3649    United Microelectronics Corporation\n",
      "Name: Company Name, dtype: object\n"
     ]
    }
   ],
   "source": [
    "company_duplicates = current_data_structure[current_data_structure.duplicated(subset='Company Name') == True]\n",
    "company_duplicates = company_duplicates['Company Name']\n",
    "print(company_duplicates)"
   ]
  },
  {
   "cell_type": "markdown",
   "metadata": {},
   "source": [
    "### Check if there are any duplicated ISIN"
   ]
  },
  {
   "cell_type": "code",
   "execution_count": 103,
   "metadata": {},
   "outputs": [
    {
     "name": "stdout",
     "output_type": "stream",
     "text": [
      "               ISIN                            Company Name_x\n",
      "0      NL0000303709                      Aegon Nederland N.V.\n",
      "2      NL0000303709              Watches of Switzerland Group\n",
      "4      FR0000031122                    Air France - KLM Group\n",
      "6      FR0000031122                          Air France Group\n",
      "8      ES0105022000                      Applus Services, S.A\n",
      "10     ES0105022000                            Webuild S.p.A.\n",
      "12     GB00BN7CG237  Aston Martin Lagonda Global Holdings PLC\n",
      "14     GB00BN7CG237                      Weir Group PLC (The)\n",
      "16     AT0000APOST4                             Austrian Post\n",
      "18     AT0000APOST4                   sterreichische Post AG\n",
      "20    not available               BES Engineering Corporation\n",
      "22    not available                       PunaMusta Media PLC\n",
      "24     SE0015659834                                   BHC Ltd\n",
      "26     SE0015659834                               RugVista AB\n",
      "28     NO0010657505                             Borregaard AS\n",
      "30     NO0010657505                              Energise Ltd\n",
      "32     FR0000120503                     BOUYGUES CONSTRUCTION\n",
      "34     FR0000120503                       Bouygues Immobilier\n",
      "36     US60081H1086             Capella Hotel Group Pte. Ltd.\n",
      "38     US60081H1086                        Milliken & Company\n",
      "40     TW0002882008         Cathay Financial Holding Co., Ltd\n",
      "42     TW0002882008                    Lyons & Annoot Limited\n",
      "44     DE0007257503                               CECONOMY AG\n",
      "46     DE0007257503                                  Metro AG\n",
      "48   Not applicable              Citrosuco Agroindustria S.A.\n",
      "50   Not applicable                             Vaillant GmbH\n",
      "52     JP3160400002                           Eisai Co., Ltd.\n",
      "54     JP3160400002                      Eisai Europe Limited\n",
      "56     ES0129743318                                   Elecnor\n",
      "58     ES0129743318                             GRUPO ELECNOR\n",
      "60     GB00BYZDVK82                        GB Railfreight Ltd\n",
      "62     GB00BYZDVK82                               Softcat plc\n",
      "64     IE0000669501                       Glanbia Ireland DAC\n",
      "66     IE0000669501                               Glanbia PLC\n",
      "68     BMG4587L1090            Hongkong Land Holdings Limited\n",
      "72     US5132721045                  Lamb Weston / Meijer vof\n",
      "74     US5132721045                      Lamb Weston Holdings\n",
      "76     XS1991188548                      Majid Al Futtaim LEC\n",
      "79     XS1991188548                Majid Al Futtaim Lifestyle\n",
      "82     XS1991188548                   Majid Al Futtaim Retail\n",
      "85     JP3336560002           Suntory Beverage & Food Limited\n",
      "87     JP3336560002                  Suntory Holdings Limited\n",
      "89     DE0007500001                           thyssenkrupp AG\n",
      "91     DE0007500001              thyssenkrupp Steel Europe AG\n",
      "93     TW0002303005       United Microelectronics Corporation\n",
      "97     US9134561094                     Universal Corporation\n",
      "99     US9134561094                Universal Music Group N.V.\n",
      "101    AU000000WOW2                  Woolworths Group Limited\n",
      "103    AU000000WOW2                   Woolworths Holdings Ltd\n"
     ]
    }
   ],
   "source": [
    "ISIN_duplicates = current_data_structure[current_data_structure.duplicated(subset='ISIN', keep=False) == True & current_data_structure['ISIN'].notnull()]\n",
    "ISIN_duplicates = ISIN_duplicates[['Company Name', 'ISIN']]\n",
    "ISIN_duplicates = ISIN_duplicates.merge(current_data_structure, on='ISIN')\n",
    "ISIN_duplicates = ISIN_duplicates[['ISIN', 'Company Name_x']].drop_duplicates()\n",
    "print(ISIN_duplicates)"
   ]
  },
  {
   "cell_type": "markdown",
   "metadata": {},
   "source": [
    "### Check if there are any duplicated LEI"
   ]
  },
  {
   "cell_type": "code",
   "execution_count": 104,
   "metadata": {},
   "outputs": [
    {
     "name": "stdout",
     "output_type": "stream",
     "text": [
      "                      LEI                                     Company Name_x\n",
      "0    5299000EAMGGBEYP7J33                                           AB Volvo\n",
      "2    5299000EAMGGBEYP7J33                                    Volvo Car Group\n",
      "4    969500CIV6V451G2DU77                                             AGRIAL\n",
      "6    969500CIV6V451G2DU77                                             Agrial\n",
      "8    969500AQW31GYO8JZD66                             Air France - KLM Group\n",
      "10   969500AQW31GYO8JZD66                           KLM Royal Dutch Airlines\n",
      "12   529900MVUWACNUTK8467                                      Austrian Post\n",
      "14   529900MVUWACNUTK8467                            sterreichische Post AG\n",
      "16   213800D1MJVOT6SNBX11                                      B2Holding ASA\n",
      "18   213800D1MJVOT6SNBX11                                  Kindred Group plc\n",
      "20   5493008SR6XZECH6BN71                                      BekaertDeslee\n",
      "22   5493008SR6XZECH6BN71                                      NV Bekaert SA\n",
      "24   5493008BVI4UNJ2DYE83                                            BHC Ltd\n",
      "26   5493008BVI4UNJ2DYE83                                        RugVista AB\n",
      "28   5967007LIEEXZXGYXC05                                      Borregaard AS\n",
      "30   5967007LIEEXZXGYXC05                                       Energise Ltd\n",
      "32   969500MOCLNQFNZN0D63                              BOUYGUES CONSTRUCTION\n",
      "34   969500MOCLNQFNZN0D63                                Bouygues Immobilier\n",
      "36   5299009XR1QLFAMQ3X77                  Cathay Financial Holding Co., Ltd\n",
      "38   5299009XR1QLFAMQ3X77                             Lyons & Annoot Limited\n",
      "40   2138008M6MH9OZ6U2T68                                  Compass Group PLC\n",
      "42   2138008M6MH9OZ6U2T68                                 Compass Group UK&I\n",
      "44   549300VL84UPTQX2XR75                      CP ALL Public Company Limited\n",
      "46   549300VL84UPTQX2XR75             Empire Company Limited and Sobeys Inc.\n",
      "48   254900S1P4XOXV67GC07                               D'Ieteren Automotive\n",
      "50   254900S1P4XOXV67GC07                            EVA AIRWAYS CORPORATION\n",
      "52   529900I72V9F0FEZR228                              Del Monte Foods, Inc.\n",
      "54   529900I72V9F0FEZR228                       Fresh Del Monte Produce Inc.\n",
      "56   213800N42YZLR9GLVC42                                 GB Railfreight Ltd\n",
      "58   213800N42YZLR9GLVC42                                        Softcat plc\n",
      "60   635400SRMCBHVMSKJS84                                Glanbia Ireland DAC\n",
      "62   635400SRMCBHVMSKJS84                                        Glanbia PLC\n",
      "64   213800XCHYNRPAYGXW28                     Hongkong Land Holdings Limited\n",
      "68   5493005SMYID1D2OY946                           Lamb Weston / Meijer vof\n",
      "70   5493005SMYID1D2OY946                               Lamb Weston Holdings\n",
      "72   894500GNKGJRUSH1F791                                         Luceco plc\n",
      "74   894500GNKGJRUSH1F791                              Pactiv Evergreen Inc.\n",
      "76   549300IS9H0W5N2N4K34                               Majid Al Futtaim LEC\n",
      "79   549300IS9H0W5N2N4K34                         Majid Al Futtaim Lifestyle\n",
      "82   549300IS9H0W5N2N4K34                            Majid Al Futtaim Retail\n",
      "85   549300HNTG4P9KBR8F18  Naabtaler Milchwerke GmbH & Co. KG Privatmolke...\n",
      "87   549300HNTG4P9KBR8F18             World Wide Technology Holding Co., LLC\n",
      "89   549300ISIPXWQZJKLM18                                            SCC Plc\n",
      "91   549300ISIPXWQZJKLM18                    Specialist Computer Centres PLC\n",
      "93   5493002HQHWN5JQHKQ51                                         Senior Plc\n",
      "95   5493002HQHWN5JQHKQ51                                       Zorlu Enerji\n",
      "97   549300FONLMVK7YYYH41                    Suntory Beverage & Food Limited\n",
      "99   549300FONLMVK7YYYH41                           Suntory Holdings Limited\n",
      "101  549300UDG16DOYUPR330                                    thyssenkrupp AG\n",
      "103  549300UDG16DOYUPR330                       thyssenkrupp Steel Europe AG\n",
      "105  391200YJCAGH9LF96P73                United Microelectronics Corporation\n",
      "109  549300BZXZ66F6DTIF20                              Universal Corporation\n",
      "111  549300BZXZ66F6DTIF20                         Universal Music Group N.V.\n",
      "113  QNWEWQBS7HP85QHXQL92                           Woolworths Group Limited\n",
      "115  QNWEWQBS7HP85QHXQL92                            Woolworths Holdings Ltd\n"
     ]
    }
   ],
   "source": [
    "LEI_duplicates = current_data_structure[current_data_structure.duplicated(subset='LEI', keep=False) == True & current_data_structure['LEI'].notnull()]\n",
    "LEI_duplicates = LEI_duplicates[['Company Name', 'LEI']]\n",
    "LEI_duplicates = LEI_duplicates.merge(current_data_structure, on='LEI')\n",
    "LEI_duplicates = LEI_duplicates[['LEI', 'Company Name_x']].drop_duplicates()\n",
    "print(LEI_duplicates)"
   ]
  },
  {
   "cell_type": "markdown",
   "metadata": {},
   "source": [
    "### Import again dataframe for pt 2 excercise"
   ]
  },
  {
   "cell_type": "code",
   "execution_count": 105,
   "metadata": {},
   "outputs": [
    {
     "name": "stdout",
     "output_type": "stream",
     "text": [
      "                                        Company Name ISIN  \\\n",
      "0  (ACIP) Alexandria Company for Industrial Packages  NaN   \n",
      "1                                           2degrees  NaN   \n",
      "2                                      3B-Fibreglass  NaN   \n",
      "3                                              4most  NaN   \n",
      "4                                       A&L Goodbody  NaN   \n",
      "\n",
      "                    LEI Near term - Target Status  \\\n",
      "0                   NaN               Targets Set   \n",
      "1  72450039D2LOPG0Z2I07                 Committed   \n",
      "2  529900UNERQOV61CA912                 Committed   \n",
      "3                   NaN               Targets Set   \n",
      "4                   NaN                 Committed   \n",
      "\n",
      "  Near term - Target Classification Near term - Target Year  \\\n",
      "0                    Well-below 2¡C                    2030   \n",
      "1                               NaN                     NaN   \n",
      "2                               NaN                     NaN   \n",
      "3                    Well-below 2¡C                    2030   \n",
      "4                               NaN                     NaN   \n",
      "\n",
      "  Long term - Target Status Long term - Target Classification  \\\n",
      "0                       NaN                               NaN   \n",
      "1                       NaN                               NaN   \n",
      "2                       NaN                               NaN   \n",
      "3                       NaN                               NaN   \n",
      "4                       NaN                               NaN   \n",
      "\n",
      "  Long term - Target Year Net-Zero Committed  ...           Organization Type  \\\n",
      "0                     NaN                 No  ...  Small or Medium Enterprise   \n",
      "1                     NaN                 No  ...                     Company   \n",
      "2                     NaN                Yes  ...                     Company   \n",
      "3                     NaN                 No  ...  Small or Medium Enterprise   \n",
      "4                     NaN                 No  ...                     Company   \n",
      "\n",
      "  BA1.5  BA1.5 Date             Location   Region  \\\n",
      "0    No         NaN                Egypt   Africa   \n",
      "1    No         NaN          New Zealand  Oceania   \n",
      "2   Yes  01/09/2021              Belgium   Europe   \n",
      "3    No         NaN  United Kingdom (UK)   Europe   \n",
      "4    No         NaN              Ireland   Europe   \n",
      "\n",
      "                                              Sector        Date  \\\n",
      "0                           Containers and Packaging  01/02/2022   \n",
      "1                         Telecommunication Services  01/09/2021   \n",
      "2  Consumer Durables, Household and Personal Prod...  01/10/2021   \n",
      "3                              Professional Services  01/09/2022   \n",
      "4                              Professional Services  01/10/2021   \n",
      "\n",
      "                                              Target  \\\n",
      "0  This target was approved using a streamlined t...   \n",
      "1                                                NaN   \n",
      "2                                                NaN   \n",
      "3  This target was approved using a streamlined t...   \n",
      "4                                                NaN   \n",
      "\n",
      "                               Target Classification Extension  \n",
      "0  The targets covering greenhouse gas emissions ...       NaN  \n",
      "1                                                NaN       NaN  \n",
      "2                                                NaN       NaN  \n",
      "3  The targets covering greenhouse gas emissions ...       NaN  \n",
      "4                                                NaN       NaN  \n",
      "\n",
      "[5 rows x 21 columns]\n"
     ]
    }
   ],
   "source": [
    "current_data_structure = pd.read_csv('/Users/adolfomytr/Documents/Data Science/SBTi/SBTi_Companies_Taking_Action.csv', encoding='latin1')\n",
    "print(current_data_structure.head())"
   ]
  },
  {
   "cell_type": "markdown",
   "metadata": {},
   "source": [
    "### Change date to datetype object"
   ]
  },
  {
   "cell_type": "code",
   "execution_count": 106,
   "metadata": {},
   "outputs": [],
   "source": [
    "current_data_structure['Date'] = pd.to_datetime(current_data_structure['Date'], dayfirst=True)"
   ]
  },
  {
   "cell_type": "markdown",
   "metadata": {},
   "source": [
    "### Restructure columns in order"
   ]
  },
  {
   "cell_type": "code",
   "execution_count": 107,
   "metadata": {},
   "outputs": [],
   "source": [
    "new_data_structure = current_data_structure[['Company Name', 'ISIN', 'LEI', 'Location', 'Region', 'Sector', 'Organization Type', 'Target', 'Near term - Target Classification', 'Near term - Target Year', 'Date']]"
   ]
  },
  {
   "cell_type": "markdown",
   "metadata": {},
   "source": [
    "### Rename columns with different names\n",
    "Columns to rename: Target to Full target language, Near term - Target Classification to Temperature alignment, Near term - Target Year to Target year, Date to Date published"
   ]
  },
  {
   "cell_type": "code",
   "execution_count": 108,
   "metadata": {},
   "outputs": [
    {
     "name": "stderr",
     "output_type": "stream",
     "text": [
      "/Users/adolfomytr/opt/anaconda3/lib/python3.8/site-packages/pandas/core/frame.py:4296: SettingWithCopyWarning: \n",
      "A value is trying to be set on a copy of a slice from a DataFrame\n",
      "\n",
      "See the caveats in the documentation: https://pandas.pydata.org/pandas-docs/stable/user_guide/indexing.html#returning-a-view-versus-a-copy\n",
      "  return super().rename(\n"
     ]
    }
   ],
   "source": [
    "dict_rename = {'Target': 'Full target language',\n",
    "                'Near term - Target Classification': 'Temperature alignment',\n",
    "                'Near term - Target Year': 'Target year',\n",
    "                'Date': 'Date published'}\n",
    "\n",
    "new_data_structure.rename(columns=dict_rename, inplace=True)"
   ]
  },
  {
   "cell_type": "markdown",
   "metadata": {},
   "source": [
    "### Add columns that are missing\n",
    "Columns missing: Action, Target type, Target wording, Scope, Target ambition, Type, Target classification, Base year, Year type"
   ]
  },
  {
   "cell_type": "code",
   "execution_count": 109,
   "metadata": {},
   "outputs": [
    {
     "name": "stderr",
     "output_type": "stream",
     "text": [
      "/Users/adolfomytr/opt/anaconda3/lib/python3.8/site-packages/pandas/core/indexing.py:659: SettingWithCopyWarning: \n",
      "A value is trying to be set on a copy of a slice from a DataFrame.\n",
      "Try using .loc[row_indexer,col_indexer] = value instead\n",
      "\n",
      "See the caveats in the documentation: https://pandas.pydata.org/pandas-docs/stable/user_guide/indexing.html#returning-a-view-versus-a-copy\n",
      "  self.obj[k] = np.nan\n",
      "<ipython-input-109-b636ca06cbf5>:1: SettingWithCopyWarning: \n",
      "A value is trying to be set on a copy of a slice from a DataFrame.\n",
      "Try using .loc[row_indexer,col_indexer] = value instead\n",
      "\n",
      "See the caveats in the documentation: https://pandas.pydata.org/pandas-docs/stable/user_guide/indexing.html#returning-a-view-versus-a-copy\n",
      "  new_data_structure[['Action', 'Target type', 'Target wording', 'Scope', 'Target ambition', 'Type', 'Target classification', 'Base year', 'Year type']] = np.nan\n",
      "/Users/adolfomytr/opt/anaconda3/lib/python3.8/site-packages/pandas/core/indexing.py:1765: SettingWithCopyWarning: \n",
      "A value is trying to be set on a copy of a slice from a DataFrame.\n",
      "Try using .loc[row_indexer,col_indexer] = value instead\n",
      "\n",
      "See the caveats in the documentation: https://pandas.pydata.org/pandas-docs/stable/user_guide/indexing.html#returning-a-view-versus-a-copy\n",
      "  isetter(loc, value)\n"
     ]
    }
   ],
   "source": [
    "new_data_structure[['Action', 'Target type', 'Target wording', 'Scope', 'Target ambition', 'Type', 'Target classification', 'Base year', 'Year type']] = np.nan"
   ]
  },
  {
   "cell_type": "markdown",
   "metadata": {},
   "source": [
    "### Reorder all columns with final structure"
   ]
  },
  {
   "cell_type": "code",
   "execution_count": 110,
   "metadata": {},
   "outputs": [
    {
     "data": {
      "text/html": [
       "<div>\n",
       "<style scoped>\n",
       "    .dataframe tbody tr th:only-of-type {\n",
       "        vertical-align: middle;\n",
       "    }\n",
       "\n",
       "    .dataframe tbody tr th {\n",
       "        vertical-align: top;\n",
       "    }\n",
       "\n",
       "    .dataframe thead th {\n",
       "        text-align: right;\n",
       "    }\n",
       "</style>\n",
       "<table border=\"1\" class=\"dataframe\">\n",
       "  <thead>\n",
       "    <tr style=\"text-align: right;\">\n",
       "      <th></th>\n",
       "      <th>Company Name</th>\n",
       "      <th>ISIN</th>\n",
       "      <th>LEI</th>\n",
       "      <th>Location</th>\n",
       "      <th>Region</th>\n",
       "      <th>Sector</th>\n",
       "      <th>Organization Type</th>\n",
       "      <th>Action</th>\n",
       "      <th>Full target language</th>\n",
       "      <th>Temperature alignment</th>\n",
       "      <th>Target type</th>\n",
       "      <th>Target wording</th>\n",
       "      <th>Scope</th>\n",
       "      <th>Target ambition</th>\n",
       "      <th>Type</th>\n",
       "      <th>Target classification</th>\n",
       "      <th>Base year</th>\n",
       "      <th>Target year</th>\n",
       "      <th>Year type</th>\n",
       "      <th>Date published</th>\n",
       "    </tr>\n",
       "  </thead>\n",
       "  <tbody>\n",
       "    <tr>\n",
       "      <th>0</th>\n",
       "      <td>(ACIP) Alexandria Company for Industrial Packages</td>\n",
       "      <td>NaN</td>\n",
       "      <td>NaN</td>\n",
       "      <td>Egypt</td>\n",
       "      <td>Africa</td>\n",
       "      <td>Containers and Packaging</td>\n",
       "      <td>Small or Medium Enterprise</td>\n",
       "      <td>NaN</td>\n",
       "      <td>This target was approved using a streamlined t...</td>\n",
       "      <td>Well-below 2¡C</td>\n",
       "      <td>NaN</td>\n",
       "      <td>NaN</td>\n",
       "      <td>NaN</td>\n",
       "      <td>NaN</td>\n",
       "      <td>NaN</td>\n",
       "      <td>NaN</td>\n",
       "      <td>NaN</td>\n",
       "      <td>2030</td>\n",
       "      <td>NaN</td>\n",
       "      <td>2022-02-01</td>\n",
       "    </tr>\n",
       "    <tr>\n",
       "      <th>1</th>\n",
       "      <td>2degrees</td>\n",
       "      <td>NaN</td>\n",
       "      <td>72450039D2LOPG0Z2I07</td>\n",
       "      <td>New Zealand</td>\n",
       "      <td>Oceania</td>\n",
       "      <td>Telecommunication Services</td>\n",
       "      <td>Company</td>\n",
       "      <td>NaN</td>\n",
       "      <td>NaN</td>\n",
       "      <td>NaN</td>\n",
       "      <td>NaN</td>\n",
       "      <td>NaN</td>\n",
       "      <td>NaN</td>\n",
       "      <td>NaN</td>\n",
       "      <td>NaN</td>\n",
       "      <td>NaN</td>\n",
       "      <td>NaN</td>\n",
       "      <td>NaN</td>\n",
       "      <td>NaN</td>\n",
       "      <td>2021-09-01</td>\n",
       "    </tr>\n",
       "    <tr>\n",
       "      <th>2</th>\n",
       "      <td>3B-Fibreglass</td>\n",
       "      <td>NaN</td>\n",
       "      <td>529900UNERQOV61CA912</td>\n",
       "      <td>Belgium</td>\n",
       "      <td>Europe</td>\n",
       "      <td>Consumer Durables, Household and Personal Prod...</td>\n",
       "      <td>Company</td>\n",
       "      <td>NaN</td>\n",
       "      <td>NaN</td>\n",
       "      <td>NaN</td>\n",
       "      <td>NaN</td>\n",
       "      <td>NaN</td>\n",
       "      <td>NaN</td>\n",
       "      <td>NaN</td>\n",
       "      <td>NaN</td>\n",
       "      <td>NaN</td>\n",
       "      <td>NaN</td>\n",
       "      <td>NaN</td>\n",
       "      <td>NaN</td>\n",
       "      <td>2021-10-01</td>\n",
       "    </tr>\n",
       "    <tr>\n",
       "      <th>3</th>\n",
       "      <td>4most</td>\n",
       "      <td>NaN</td>\n",
       "      <td>NaN</td>\n",
       "      <td>United Kingdom (UK)</td>\n",
       "      <td>Europe</td>\n",
       "      <td>Professional Services</td>\n",
       "      <td>Small or Medium Enterprise</td>\n",
       "      <td>NaN</td>\n",
       "      <td>This target was approved using a streamlined t...</td>\n",
       "      <td>Well-below 2¡C</td>\n",
       "      <td>NaN</td>\n",
       "      <td>NaN</td>\n",
       "      <td>NaN</td>\n",
       "      <td>NaN</td>\n",
       "      <td>NaN</td>\n",
       "      <td>NaN</td>\n",
       "      <td>NaN</td>\n",
       "      <td>2030</td>\n",
       "      <td>NaN</td>\n",
       "      <td>2022-09-01</td>\n",
       "    </tr>\n",
       "    <tr>\n",
       "      <th>4</th>\n",
       "      <td>A&amp;L Goodbody</td>\n",
       "      <td>NaN</td>\n",
       "      <td>NaN</td>\n",
       "      <td>Ireland</td>\n",
       "      <td>Europe</td>\n",
       "      <td>Professional Services</td>\n",
       "      <td>Company</td>\n",
       "      <td>NaN</td>\n",
       "      <td>NaN</td>\n",
       "      <td>NaN</td>\n",
       "      <td>NaN</td>\n",
       "      <td>NaN</td>\n",
       "      <td>NaN</td>\n",
       "      <td>NaN</td>\n",
       "      <td>NaN</td>\n",
       "      <td>NaN</td>\n",
       "      <td>NaN</td>\n",
       "      <td>NaN</td>\n",
       "      <td>NaN</td>\n",
       "      <td>2021-10-01</td>\n",
       "    </tr>\n",
       "  </tbody>\n",
       "</table>\n",
       "</div>"
      ],
      "text/plain": [
       "                                        Company Name ISIN  \\\n",
       "0  (ACIP) Alexandria Company for Industrial Packages  NaN   \n",
       "1                                           2degrees  NaN   \n",
       "2                                      3B-Fibreglass  NaN   \n",
       "3                                              4most  NaN   \n",
       "4                                       A&L Goodbody  NaN   \n",
       "\n",
       "                    LEI             Location   Region  \\\n",
       "0                   NaN                Egypt   Africa   \n",
       "1  72450039D2LOPG0Z2I07          New Zealand  Oceania   \n",
       "2  529900UNERQOV61CA912              Belgium   Europe   \n",
       "3                   NaN  United Kingdom (UK)   Europe   \n",
       "4                   NaN              Ireland   Europe   \n",
       "\n",
       "                                              Sector  \\\n",
       "0                           Containers and Packaging   \n",
       "1                         Telecommunication Services   \n",
       "2  Consumer Durables, Household and Personal Prod...   \n",
       "3                              Professional Services   \n",
       "4                              Professional Services   \n",
       "\n",
       "            Organization Type  Action  \\\n",
       "0  Small or Medium Enterprise     NaN   \n",
       "1                     Company     NaN   \n",
       "2                     Company     NaN   \n",
       "3  Small or Medium Enterprise     NaN   \n",
       "4                     Company     NaN   \n",
       "\n",
       "                                Full target language Temperature alignment  \\\n",
       "0  This target was approved using a streamlined t...        Well-below 2¡C   \n",
       "1                                                NaN                   NaN   \n",
       "2                                                NaN                   NaN   \n",
       "3  This target was approved using a streamlined t...        Well-below 2¡C   \n",
       "4                                                NaN                   NaN   \n",
       "\n",
       "   Target type  Target wording  Scope  Target ambition  Type  \\\n",
       "0          NaN             NaN    NaN              NaN   NaN   \n",
       "1          NaN             NaN    NaN              NaN   NaN   \n",
       "2          NaN             NaN    NaN              NaN   NaN   \n",
       "3          NaN             NaN    NaN              NaN   NaN   \n",
       "4          NaN             NaN    NaN              NaN   NaN   \n",
       "\n",
       "   Target classification  Base year Target year  Year type Date published  \n",
       "0                    NaN        NaN        2030        NaN     2022-02-01  \n",
       "1                    NaN        NaN         NaN        NaN     2021-09-01  \n",
       "2                    NaN        NaN         NaN        NaN     2021-10-01  \n",
       "3                    NaN        NaN        2030        NaN     2022-09-01  \n",
       "4                    NaN        NaN         NaN        NaN     2021-10-01  "
      ]
     },
     "execution_count": 110,
     "metadata": {},
     "output_type": "execute_result"
    }
   ],
   "source": [
    "new_data_structure = new_data_structure[['Company Name', 'ISIN', 'LEI', 'Location', 'Region', 'Sector', 'Organization Type', 'Action', 'Full target language', 'Temperature alignment', 'Target type', 'Target wording', 'Scope', 'Target ambition', 'Type', 'Target classification', 'Base year', 'Target year', 'Year type', 'Date published']]\n",
    "new_data_structure.head()"
   ]
  },
  {
   "cell_type": "markdown",
   "metadata": {},
   "source": [
    "### Import new datasets for pt 3 exercise"
   ]
  },
  {
   "cell_type": "code",
   "execution_count": 111,
   "metadata": {},
   "outputs": [],
   "source": [
    "task_3_indexes_table = pd.read_csv('/Users/adolfomytr/Documents/Data Science/SBTi/SBTi_Technical_Task.csv', encoding='latin1')\n",
    "companies_taking_action_table = pd.read_csv('/Users/adolfomytr/Documents/Data Science/SBTi/SBTi_Companies_Taking_Action.csv', encoding='latin1')\n",
    "companies_with_indexes = companies_taking_action_table.merge(task_3_indexes_table, on='ISIN', how = 'left')"
   ]
  },
  {
   "cell_type": "markdown",
   "metadata": {},
   "source": [
    "### Filter only United States Companies, because we are analizing S&P500"
   ]
  },
  {
   "cell_type": "code",
   "execution_count": 112,
   "metadata": {},
   "outputs": [
    {
     "name": "stdout",
     "output_type": "stream",
     "text": [
      "        Company Name_x          ISIN    Index                        Location  \\\n",
      "23              Abbott  US0028241000  S&P 500  United States of America (USA)   \n",
      "24              AbbVie  US00287Y1091  S&P 500  United States of America (USA)   \n",
      "28  ABM Industries Inc  US0009571003      NaN  United States of America (USA)   \n",
      "32      Abt Associates           NaN      NaN  United States of America (USA)   \n",
      "50                ACRE           NaN      NaN  United States of America (USA)   \n",
      "\n",
      "                                               Target  \n",
      "23  Abbott commits to reduce absolute scope 1 and ...  \n",
      "24                                                NaN  \n",
      "28                                                NaN  \n",
      "32  Abt Associates commits to reduce absolute scop...  \n",
      "50                                                NaN  \n"
     ]
    }
   ],
   "source": [
    "us_companies_with_indexes = companies_with_indexes[['Company Name_x', 'ISIN', 'Index', 'Location', 'Target']]\n",
    "us_companies_with_indexes = us_companies_with_indexes[us_companies_with_indexes['Location'] == 'United States of America (USA)']\n",
    "print(us_companies_with_indexes.head())"
   ]
  },
  {
   "cell_type": "markdown",
   "metadata": {},
   "source": [
    "### Eliminate ISIN empty values and filter only the S&P500 companies (consider that there are many empty values for the ISIN that might mean more companies for the current year)"
   ]
  },
  {
   "cell_type": "code",
   "execution_count": 113,
   "metadata": {},
   "outputs": [
    {
     "name": "stdout",
     "output_type": "stream",
     "text": [
      "186\n"
     ]
    }
   ],
   "source": [
    "us_companies_with_indexes_with_isin = us_companies_with_indexes[us_companies_with_indexes['ISIN'].notnull()]\n",
    "sp500_companies_cy = us_companies_with_indexes_with_isin[us_companies_with_indexes_with_isin['Index'] == 'S&P 500']\n",
    "#sp500_companies_cy.head()\n",
    "count_sp500_companies_cy = sp500_companies_cy['Company Name_x'].count()\n",
    "print(count_sp500_companies_cy)"
   ]
  },
  {
   "cell_type": "markdown",
   "metadata": {},
   "source": [
    "### Count number of companies with commitment and approved in companies with indexes from task_3 table"
   ]
  },
  {
   "cell_type": "code",
   "execution_count": 114,
   "metadata": {},
   "outputs": [
    {
     "name": "stdout",
     "output_type": "stream",
     "text": [
      "80\n",
      "40\n",
      "120\n"
     ]
    }
   ],
   "source": [
    "sp500_task_3 = task_3_indexes_table[task_3_indexes_table['Index'] == 'S&P 500']\n",
    "count_approved_sp500 = sp500_task_3['SBT Approved'].count()\n",
    "count_commited_sp500 = sp500_task_3['SBT Committed'].count()\n",
    "count_total_sp500 = count_approved_sp500 + count_commited_sp500\n",
    "print(count_approved_sp500)\n",
    "print(count_commited_sp500)\n",
    "print(count_total_sp500)"
   ]
  },
  {
   "cell_type": "markdown",
   "metadata": {},
   "source": [
    "### Create dictionary with new data for representation"
   ]
  },
  {
   "cell_type": "code",
   "execution_count": 115,
   "metadata": {},
   "outputs": [
    {
     "name": "stdout",
     "output_type": "stream",
     "text": [
      "  Companies   PY   CY\n",
      "0     Total  120  186\n"
     ]
    },
    {
     "data": {
      "image/png": "[encoded data removed]",
      "text/plain": [
       "<Figure size 432x288 with 1 Axes>"
      ]
     },
     "metadata": {
      "needs_background": "light"
     },
     "output_type": "display_data"
    }
   ],
   "source": [
    "dict_py_cy = {'Companies':'Total', 'PY':[count_total_sp500], 'CY':[count_sp500_companies_cy]} \n",
    "py_vs_cy_table = pd.DataFrame(dict_py_cy)\n",
    "growth_perc = py_vs_cy_table['CY']/py_vs_cy_table['PY'] - 1\n",
    "growth_count = py_vs_cy_table['CY'] - py_vs_cy_table['PY']\n",
    "print(py_vs_cy_table)\n",
    "#Plot previous year vs current year\n",
    "py_vs_cy_table.plot(kind='bar')\n",
    "plt.show()"
   ]
  },
  {
   "cell_type": "markdown",
   "metadata": {},
   "source": [
    "### Plot distribution of companies approved vs commited"
   ]
  },
  {
   "cell_type": "code",
   "execution_count": 116,
   "metadata": {},
   "outputs": [
    {
     "data": {
      "image/png": "[encoded data removed]",
      "text/plain": [
       "<Figure size 432x288 with 1 Axes>"
      ]
     },
     "metadata": {
      "needs_background": "light"
     },
     "output_type": "display_data"
    }
   ],
   "source": [
    "dict_approved_commited = {'Distribution': 'S&P 500 PY', 'Approved': [count_approved_sp500], 'Commited': [count_commited_sp500]}\n",
    "approved_vs_commited_table = pd.DataFrame(dict_approved_commited)\n",
    "approved_vs_commited_table.plot(kind = 'barh', color = ['green', 'blue'])\n",
    "plt.show()"
   ]
  }
 ],
 "metadata": {
  "interpreter": {
   "hash": "bd298f439cec3fce4824eab919085afc570f8b01b13c0e9ab505c6bd85a627bf"
  },
  "kernelspec": {
   "display_name": "Python 3.8.5 ('base')",
   "language": "python",
   "name": "python3"
  },
  "language_info": {
   "codemirror_mode": {
    "name": "ipython",
    "version": 3
   },
   "file_extension": ".py",
   "mimetype": "text/x-python",
   "name": "python",
   "nbconvert_exporter": "python",
   "pygments_lexer": "ipython3",
   "version": "3.8.5"
  },
  "orig_nbformat": 4
 },
 "nbformat": 4,
 "nbformat_minor": 2
}
